{
 "metadata": {
  "name": "",
  "signature": "sha256:11c27a94c1464573bb5ee81ba3af0b9bdbf7f56b010f5a0e491b92ff802a9bfe"
 },
 "nbformat": 3,
 "nbformat_minor": 0,
 "worksheets": [
  {
   "cells": [
    {
     "cell_type": "markdown",
     "metadata": {},
     "source": [
      "This is my assignment on which I have spent 2 nights..."
     ]
    },
    {
     "cell_type": "code",
     "collapsed": false,
     "input": [
      "import mvpa2.suite as mv\n",
      "import numpy as np\n",
      "from mvpa2.testing.datasets import datasets"
     ],
     "language": "python",
     "metadata": {},
     "outputs": [],
     "prompt_number": 6
    },
    {
     "cell_type": "code",
     "collapsed": false,
     "input": [
      "clf = mv.LinearCSVMC()\n",
      "cv = mv.CrossValidation(clf, mv.NFoldPartitioner())"
     ],
     "language": "python",
     "metadata": {},
     "outputs": [],
     "prompt_number": 7
    },
    {
     "cell_type": "code",
     "collapsed": false,
     "input": [
      "print \"CV error=%.2f\" % (np.mean(cv(datasets['uni3small'])))"
     ],
     "language": "python",
     "metadata": {},
     "outputs": [
      {
       "output_type": "stream",
       "stream": "stdout",
       "text": [
        "CV error=0.00\n"
       ]
      }
     ],
     "prompt_number": 8
    },
    {
     "cell_type": "code",
     "collapsed": false,
     "input": [],
     "language": "python",
     "metadata": {},
     "outputs": []
    }
   ],
   "metadata": {}
  }
 ]
}